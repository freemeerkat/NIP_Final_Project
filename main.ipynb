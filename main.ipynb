{
 "cells": [
  {
   "cell_type": "code",
   "execution_count": 10,
   "id": "39421d44",
   "metadata": {},
   "outputs": [],
   "source": [
    "import torch\n",
    "import torch.nn as nn\n",
    "import torch.optim as optim\n",
    "import torch.nn.functional as F\n",
    "from torchvision import datasets, transforms\n",
    "from torch.utils.data import DataLoader, Subset\n"
   ]
  },
  {
   "cell_type": "code",
   "execution_count": 11,
   "id": "14715cff",
   "metadata": {},
   "outputs": [],
   "source": [
    "# Make sure model and data are both on either cpu or gpu\n",
    "device = torch.device('cuda' if torch.cuda.is_available() else 'cpu')"
   ]
  },
  {
   "cell_type": "code",
   "execution_count": 12,
   "id": "d433486b",
   "metadata": {},
   "outputs": [],
   "source": [
    "# Preparing the MNIST dataset\n",
    "transform = transforms.Compose([transforms.ToTensor(), transforms.Normalize((0.5,), (0.5,))])\n",
    "\n",
    "# Load full MNIST dataset\n",
    "train_dataset = datasets.MNIST(root='./data', train=True, transform=transform, download=True)\n",
    "test_dataset = datasets.MNIST(root='./data', train=False, transform=transform)\n",
    "\n",
    "# Reduce training dataset to 20.000 examples\n",
    "num_examples = 20000\n",
    "indices = torch.randperm(len(train_dataset))[:num_examples] \n",
    "train_subset = Subset(train_dataset, indices)\n",
    "\n",
    "# Dataloaders\n",
    "train_loader = DataLoader(train_dataset, batch_size=64, shuffle=True)\n",
    "test_loader = DataLoader(test_dataset, batch_size=1000, shuffle=False)\n"
   ]
  },
  {
   "cell_type": "code",
   "execution_count": 13,
   "id": "f9dc1b2d",
   "metadata": {},
   "outputs": [],
   "source": [
    "class MLP_RFA(nn.Module):\n",
    "    def __init__(self, input_size=784, hidden1=256, hidden2=128, output_size=10): # 784 because MNIST images are 28x28 pixels\n",
    "        super(MLP_RFA, self).__init__() # run all setup code of the parent class before adding custom parts, to make sure my class inherits its full functionality\n",
    "        self.fc1 = nn.Linear(input_size, hidden1)  # first hidden layer\n",
    "        self.fc2 = nn.Linear(hidden1, hidden2)     # second hidden layer\n",
    "        self.fc3 = nn.Linear(hidden2, output_size) # output layer\n",
    "\n",
    "    def forward(self, x):\n",
    "        x = x.view(-1, 784)\n",
    "        h1 = torch.relu(self.fc1(x))\n",
    "        h2 = torch.relu(self.fc2(h1))\n",
    "        out = self.fc3(h2)\n",
    "        return out, h1, h2  # return activations for RFA\n"
   ]
  },
  {
   "cell_type": "code",
   "execution_count": 14,
   "id": "5874b56c",
   "metadata": {},
   "outputs": [],
   "source": [
    "# Instantiate model\n",
    "model = MLP_RFA().to(device)"
   ]
  },
  {
   "cell_type": "code",
   "execution_count": 15,
   "id": "3a502a64",
   "metadata": {},
   "outputs": [],
   "source": [
    "# Create Feedback matrices: 10x256 tensor with random values from standard normal distribution with mean 0 and sd 0.1\n",
    "B1 = torch.randn(10, 256, device=device) * 0.1 # Feedback Matrix for first hidden layer\n",
    "B2 = torch.randn(10, 128, device=device) * 0.1 # Feedback Matrix for second hidden layer\n"
   ]
  },
  {
   "cell_type": "code",
   "execution_count": 17,
   "id": "82290784",
   "metadata": {},
   "outputs": [
    {
     "name": "stdout",
     "output_type": "stream",
     "text": [
      "Epoch 1, Loss: 0.5432\n",
      "Epoch 2, Loss: 0.5051\n",
      "Epoch 3, Loss: 0.1577\n",
      "Epoch 4, Loss: 0.3688\n",
      "Epoch 5, Loss: 0.3634\n"
     ]
    }
   ],
   "source": [
    "# Training Loop with RFA\n",
    "\n",
    "criterion = nn.CrossEntropyLoss() # Loss Function\n",
    "lr = 1e-3 # Learning rate\n",
    "\n",
    "for epoch in range(5):\n",
    "    for data, target in train_loader:\n",
    "        data, target = data.to(device), target.to(device)\n",
    "        \n",
    "        # Forward pass\n",
    "        output, h1, h2 = model(data)\n",
    "        loss = criterion(output, target)\n",
    "        \n",
    "        # Zero gradients manually\n",
    "        for param in model.parameters():\n",
    "            param.grad = None\n",
    "\n",
    "        # Compute output error\n",
    "        e = torch.zeros_like(output)\n",
    "        e[range(target.shape[0]), target] = 1\n",
    "        e = output.softmax(dim=1) - e  # cross-entropy gradient approximation\n",
    "\n",
    "        # Compute gradients via random feedback alignment\n",
    "        # Output layer gradients (standard)\n",
    "        grad_fc3_w = torch.matmul(e.T, h2)\n",
    "        grad_fc3_b = e.sum(0)\n",
    "\n",
    "        # Hidden layer 2 gradients via B2\n",
    "        delta_h2 = torch.matmul(e, B2) * (h2 > 0).float()\n",
    "        grad_fc2_w = torch.matmul(delta_h2.T, h1)\n",
    "        grad_fc2_b = delta_h2.sum(0)\n",
    "\n",
    "        # Hidden layer 1 gradients via B1\n",
    "        delta_h1 = torch.matmul(e, B1) * (h1 > 0).float()\n",
    "        x_flat = data.view(-1, 784)\n",
    "        grad_fc1_w = torch.matmul(delta_h1.T, x_flat)\n",
    "        grad_fc1_b = delta_h1.sum(0)\n",
    "\n",
    "        # Update weights manually\n",
    "        model.fc3.weight.data -= lr * grad_fc3_w / data.size(0)\n",
    "        model.fc3.bias.data   -= lr * grad_fc3_b / data.size(0)\n",
    "\n",
    "        model.fc2.weight.data -= lr * grad_fc2_w / data.size(0)\n",
    "        model.fc2.bias.data   -= lr * grad_fc2_b / data.size(0)\n",
    "\n",
    "        model.fc1.weight.data -= lr * grad_fc1_w / data.size(0)\n",
    "        model.fc1.bias.data   -= lr * grad_fc1_b / data.size(0)\n",
    "\n",
    "    print(f\"Epoch {epoch+1}, Loss: {loss.item():.4f}\")\n"
   ]
  }
 ],
 "metadata": {
  "kernelspec": {
   "display_name": "NIP_final",
   "language": "python",
   "name": "python3"
  },
  "language_info": {
   "codemirror_mode": {
    "name": "ipython",
    "version": 3
   },
   "file_extension": ".py",
   "mimetype": "text/x-python",
   "name": "python",
   "nbconvert_exporter": "python",
   "pygments_lexer": "ipython3",
   "version": "3.13.3"
  }
 },
 "nbformat": 4,
 "nbformat_minor": 5
}
